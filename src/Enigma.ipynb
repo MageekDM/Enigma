{
 "cells": [
  {
   "cell_type": "markdown",
   "metadata": {},
   "source": [
    "# Enigma"
   ]
  },
  {
   "cell_type": "code",
   "execution_count": 1,
   "metadata": {
    "collapsed": false
   },
   "outputs": [],
   "source": [
    "include(\"enigma.jl\")\n",
    "nothing"
   ]
  },
  {
   "cell_type": "markdown",
   "metadata": {},
   "source": [
    "## Substitution Cipher"
   ]
  },
  {
   "cell_type": "code",
   "execution_count": 2,
   "metadata": {
    "collapsed": false
   },
   "outputs": [
    {
     "data": {
      "text/html": [
       "<img src=\"files/substitution.gif?10227638249549374308\" />"
      ],
      "text/plain": [
       "Reel.Frames{MIME{Symbol(\"image/png\")}}(\"/tmp/tmptkwCyw\",0x00000000000000ae,12.0,\"substitution.gif\")"
      ]
     },
     "execution_count": 2,
     "metadata": {},
     "output_type": "execute_result"
    }
   ],
   "source": [
    "rotor = Rotor([4, 2, 1, 3], [4])\n",
    "alphabet = ['A', 'C', 'S', 'T']\n",
    "input = \"A CAT SAT AT A CASA\"\n",
    "\n",
    "frames = play_animation(rotor, input, alphabet)\n",
    "write(\"substitution.gif\", frames)\n",
    "frames"
   ]
  },
  {
   "cell_type": "markdown",
   "metadata": {},
   "source": [
    "## Rotating Cipher"
   ]
  },
  {
   "cell_type": "code",
   "execution_count": 4,
   "metadata": {
    "collapsed": false
   },
   "outputs": [
    {
     "data": {
      "text/html": [
       "<img src=\"files/rotation.gif?15244932318570808067\" />"
      ],
      "text/plain": [
       "Reel.Frames{MIME{Symbol(\"image/png\")}}(\"/tmp/tmpzDoobE\",0x000000000000018e,12.0,\"rotation.gif\")"
      ]
     },
     "execution_count": 4,
     "metadata": {},
     "output_type": "execute_result"
    }
   ],
   "source": [
    "rotors = [deepcopy(rotor)]\n",
    "frames = play_animation(rotors, input, alphabet)\n",
    "write(\"rotation.gif\", frames)\n",
    "frames"
   ]
  },
  {
   "cell_type": "markdown",
   "metadata": {},
   "source": [
    "## Multiple Rotors"
   ]
  },
  {
   "cell_type": "code",
   "execution_count": 5,
   "metadata": {
    "collapsed": false
   },
   "outputs": [
    {
     "data": {
      "text/html": [
       "<img src=\"files/two_rot.gif?6071679973739095820\" />"
      ],
      "text/plain": [
       "Reel.Frames{MIME{Symbol(\"image/png\")}}(\"/tmp/tmpnXaJDN\",0x000000000000018e,12.0,\"two_rot.gif\")"
      ]
     },
     "execution_count": 5,
     "metadata": {},
     "output_type": "execute_result"
    }
   ],
   "source": [
    "rotors = [Rotor([4, 2, 1, 3], [4]), Rotor([2, 4, 3, 1], [4])]\n",
    "frames = play_animation(rotors, input, alphabet)\n",
    "write(\"two_rot.gif\", frames)\n",
    "frames"
   ]
  },
  {
   "cell_type": "markdown",
   "metadata": {},
   "source": [
    "## Adding a Reflector"
   ]
  },
  {
   "cell_type": "code",
   "execution_count": 10,
   "metadata": {
    "collapsed": false
   },
   "outputs": [
    {
     "data": {
      "text/html": [
       "<img src=\"files/reflector.gif?8349829604756552307\" />"
      ],
      "text/plain": [
       "Reel.Frames{MIME{Symbol(\"image/png\")}}(\"/tmp/tmpnCzpET\",0x00000000000001aa,12.0,\"reflector.gif\")"
      ]
     },
     "execution_count": 10,
     "metadata": {},
     "output_type": "execute_result"
    }
   ],
   "source": [
    "plugboard = Plugboard(collect(1:4))\n",
    "ref = Reflector([2,1,4,3])\n",
    "enigma = Enigma(plugboard, [deepcopy(rotor),deepcopy(rotor)], ref, alphabet)\n",
    "\n",
    "rp = render_params=RotorRenderParams(80.0, 50.0, 80.0, 180.0, 8.0, 4.0)\n",
    "frames = play_animation(enigma, input, render_plugboard=false, render_params=rp)\n",
    "write(\"reflector.gif\", frames)\n",
    "frames"
   ]
  },
  {
   "cell_type": "markdown",
   "metadata": {},
   "source": [
    "## With a Plugboard"
   ]
  },
  {
   "cell_type": "code",
   "execution_count": 2,
   "metadata": {
    "collapsed": false,
    "scrolled": false
   },
   "outputs": [
    {
     "data": {
      "text/html": [
       "<img src=\"files/plugboard.gif?9217703412949553977\" />"
      ],
      "text/plain": [
       "Reel.Frames{MIME{Symbol(\"image/png\")}}(\"/tmp/tmpLUxlau\",0x00000000000001aa,12.0,\"plugboard.gif\")"
      ]
     },
     "execution_count": 2,
     "metadata": {},
     "output_type": "execute_result"
    }
   ],
   "source": [
    "rotor = Rotor([4, 2, 1, 3], [4])\n",
    "alphabet = ['A', 'C', 'S', 'T']\n",
    "input = \"A CAT SAT AT A CASA\"\n",
    "\n",
    "plugboard = Plugboard(collect(1:4))\n",
    "ref = Reflector([2,1,4,3])\n",
    "enigma = Enigma(plugboard, [deepcopy(rotor),deepcopy(rotor)], ref, alphabet)\n",
    "\n",
    "enigma.plugboard = Plugboard([2,1,3,4])\n",
    "rp = render_params=RotorRenderParams(80.0, 50.0, 80.0, 120.0, 8.0, 4.0)\n",
    "frames = play_animation(enigma, input, render_params=rp)\n",
    "write(\"plugboard.gif\", frames)\n",
    "frames"
   ]
  },
  {
   "cell_type": "markdown",
   "metadata": {},
   "source": [
    "## Full Enigma"
   ]
  },
  {
   "cell_type": "code",
   "execution_count": 6,
   "metadata": {
    "collapsed": false
   },
   "outputs": [
    {
     "data": {
      "text/html": [
       "<img src=\"files/enigma.gif?17044932016066898718\" />"
      ],
      "text/plain": [
       "Reel.Frames{MIME{Symbol(\"image/png\")}}(\"/tmp/tmpsE783i\",0x00000000000001e6,12.0,\"enigma.gif\")"
      ]
     },
     "execution_count": 6,
     "metadata": {},
     "output_type": "execute_result"
    }
   ],
   "source": [
    "enigma = get_M3_enigma('C', (8,2,4), \"PXM\", \"AB CY ET FQ HZ LG MJ OK US WX\")\n",
    "render_params = RotorRenderParams(80.0, 50.0, 10.0, 90.0, 4.0, 2.5)\n",
    "frames = play_animation(enigma, \"ULIUZE EAZ MAIEKMU\", render_params=render_params)\n",
    "write(\"enigma.gif\", frames)\n",
    "frames"
   ]
  },
  {
   "cell_type": "code",
   "execution_count": null,
   "metadata": {
    "collapsed": true
   },
   "outputs": [],
   "source": []
  },
  {
   "cell_type": "code",
   "execution_count": null,
   "metadata": {
    "collapsed": true
   },
   "outputs": [],
   "source": []
  }
 ],
 "metadata": {
  "anaconda-cloud": {},
  "kernelspec": {
   "display_name": "Julia 0.5.0",
   "language": "julia",
   "name": "julia-0.5"
  },
  "language_info": {
   "file_extension": ".jl",
   "mimetype": "application/julia",
   "name": "julia",
   "version": "0.5.0"
  }
 },
 "nbformat": 4,
 "nbformat_minor": 1
}
